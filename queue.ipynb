{
 "cells": [
  {
   "cell_type": "markdown",
   "id": "5c5a47bf-7a8c-4f3e-bf7b-86a659a8cedf",
   "metadata": {},
   "source": [
    "# Implementation of Queue Data Structure"
   ]
  },
  {
   "cell_type": "code",
   "execution_count": 2,
   "id": "43c792f5-fe31-49ac-a9f4-21e66e679e4f",
   "metadata": {},
   "outputs": [],
   "source": [
    "import queue\n",
    "q = queue.Queue()\n"
   ]
  },
  {
   "cell_type": "code",
   "execution_count": null,
   "id": "f1534801-c622-4e5d-bdcd-b52eff0ee4e4",
   "metadata": {},
   "outputs": [],
   "source": [
    " def enqueue():\n",
    "    element = int(input('Enter element: '))\n",
    "    q.put(element)\n",
    "    print(f\"{element}: inserted in the queue\")\n",
    "\n",
    "def dequeue():\n",
    "    if q.empty():\n",
    "        print('Queue is empty!')\n",
    "    else:\n",
    "        q.get()\n",
    "\n",
    "def display():\n",
    "    print(vars(q))\n",
    "\n",
    "while True:\n",
    "    choice = int(input('Choose: 1.Insert 2.Remove 3.Show 4.Quit'))\n",
    "    if choice == 1:\n",
    "        enqueue()\n",
    "    elif choice == 2:\n",
    "        dequeue()\n",
    "    elif choice == 3:\n",
    "        display()\n",
    "    elif choice == 4: \n",
    "        break \n",
    "    else:\n",
    "        print('Unknown choice')"
   ]
  },
  {
   "cell_type": "code",
   "execution_count": null,
   "id": "14104ebd-562d-4349-a19c-60798d9c5a3f",
   "metadata": {},
   "outputs": [],
   "source": []
  }
 ],
 "metadata": {
  "kernelspec": {
   "display_name": "Python 3 (ipykernel)",
   "language": "python",
   "name": "python3"
  },
  "language_info": {
   "codemirror_mode": {
    "name": "ipython",
    "version": 3
   },
   "file_extension": ".py",
   "mimetype": "text/x-python",
   "name": "python",
   "nbconvert_exporter": "python",
   "pygments_lexer": "ipython3",
   "version": "3.12.4"
  }
 },
 "nbformat": 4,
 "nbformat_minor": 5
}
